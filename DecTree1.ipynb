{
 "metadata": {
  "language_info": {
   "codemirror_mode": {
    "name": "ipython",
    "version": 3
   },
   "file_extension": ".py",
   "mimetype": "text/x-python",
   "name": "python",
   "nbconvert_exporter": "python",
   "pygments_lexer": "ipython3",
   "version": "3.9.6"
  },
  "orig_nbformat": 2,
  "kernelspec": {
   "name": "python3",
   "display_name": "Python 3.9.6 64-bit"
  },
  "interpreter": {
   "hash": "3c66f6a286164178c61090f11fff7531913209fa14f0a93186ebc32286e28675"
  }
 },
 "nbformat": 4,
 "nbformat_minor": 2,
 "cells": [
  {
   "cell_type": "code",
   "execution_count": null,
   "source": [
    "from sklearn import tree\r\n",
    "import pandas as pd\r\n",
    "import pydotplus\r\n",
    "from IPython.display import Image\r\n"
   ],
   "outputs": [],
   "metadata": {}
  },
  {
   "cell_type": "code",
   "execution_count": null,
   "source": [
    "golf_df = pd.DataFrame()\r\n",
    "golf_df['Outlook'] = ['sunny', 'sunny', 'overcast', 'rainy', 'rainy', 'rainy', \r\n",
    "                     'overcast', 'sunny', 'sunny', 'rainy', 'sunny', 'overcast','overcast', 'rainy']\r\n",
    "\r\n",
    "golf_df['Temperature'] = ['hot', 'hot', 'hot', 'mild', 'cool', 'cool', 'cool','mild', 'cool', 'mild', 'mild', 'mild', 'hot', 'mild']\r\n",
    "\r\n",
    "golf_df['Humidity'] = ['high', 'high', 'high', 'high', 'normal', 'normal', 'normal','high', 'normal', 'normal', 'normal', 'high', 'normal', 'high']\r\n",
    "\r\n",
    "golf_df['Windy'] = ['false', 'true', 'false', 'false', 'false', 'true', 'true','false', 'false', 'false', 'true', 'true', 'false', 'true']\r\n",
    "\r\n",
    "golf_df['Play'] = ['no', 'no', 'yes', 'yes', 'yes', 'no', 'yes', 'no', 'yes', 'yes', 'yes','yes', 'yes', 'no']\r\n",
    "\r\n",
    "print(golf_df)\r\n"
   ],
   "outputs": [],
   "metadata": {}
  },
  {
   "cell_type": "code",
   "execution_count": null,
   "source": [
    "conv_data = pd.get_dummies(golf_df[['Outlook','Temperature','Humidity','Windy']])\r\n",
    "\r\n",
    "print(conv_data)"
   ],
   "outputs": [],
   "metadata": {}
  },
  {
   "cell_type": "code",
   "execution_count": null,
   "source": [
    "clf = tree.DecisionTreeClassifier()\r\n",
    "clf_train = clf.fit(conv_data, golf_df['Play'])"
   ],
   "outputs": [],
   "metadata": {}
  },
  {
   "cell_type": "code",
   "execution_count": null,
   "source": [
    "data = tree.export_graphviz(clf_train, out_file=None, feature_names=list(conv_data.columns.values),rounded = True,filled = True ,class_names = golf_df['Play'].unique())\r\n",
    "#print(data)\r\n",
    "graph1 = pydotplus.graph_from_dot_data(data)\r\n",
    "\r\n",
    "Image(graph1.create_png())"
   ],
   "outputs": [],
   "metadata": {}
  },
  {
   "cell_type": "code",
   "execution_count": null,
   "source": [
    "prediction = clf_train.predict([[0,0,1,0,1,0,0,1,1,0]])\r\n",
    "print(prediction)"
   ],
   "outputs": [],
   "metadata": {}
  },
  {
   "cell_type": "code",
   "execution_count": null,
   "source": [],
   "outputs": [],
   "metadata": {}
  }
 ]
}