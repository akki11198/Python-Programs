{
    "cells": [
        {
            "cell_type": "code",
            "execution_count": null,
            "source": [],
            "outputs": [],
            "metadata": {}
        },
        {
            "cell_type": "code",
            "execution_count": 11,
            "source": [
                "fp = open(\"Try_FS_With_Python.txt\",\"w\")\r\n",
                "fp.write(\"This is a ramndom info to be written in the file. Thjis malkes no sense at all\")\r\n",
                "fp.close()\r\n",
                "\r\n",
                "fp = open(\"Try_FS_With_Python.txt\",\"a\")\r\n",
                "fp.write(\". this is append opeartion\")\r\n",
                "fp.write(\"\\n This should add new lines\")\r\n",
                "fp.close()\r\n",
                "\r\n",
                "fp = open(\"Random.txt\",\"r\")\r\n",
                "print(fp.read())\r\n"
            ],
            "outputs": [
                {
                    "output_type": "stream",
                    "name": "stdout",
                    "text": [
                        "fvoghrfg\n",
                        "difhoweiur\n",
                        "gkhweilfkghvoihe\n",
                        "foigheoifbhv\n",
                        "coivheiohg\n",
                        "]opfihbvioehrfbv\n",
                        "]opcivheio[pg\n",
                        "ifhvioe\n",
                        "]hyeiophfv\n",
                        "evhe]iophfv\n",
                        "we\n",
                        "bvhei0hfbv\n",
                        "[ephbe]\n"
                    ]
                }
            ],
            "metadata": {}
        },
        {
            "cell_type": "code",
            "execution_count": 5,
            "source": [
                "n = int(input())\r\n",
                "snd = []\r\n",
                "rec = []\r\n",
                "amt = []\r\n",
                "cur = []\r\n",
                "for i in range (n):\r\n",
                "    s = int(input())\r\n",
                "    r = int(input())\r\n",
                "    a = int(input())\r\n",
                "    c = input()\r\n",
                "    snd.append(s)\r\n",
                "    rec.append(r)\r\n",
                "    amt.append(a)\r\n",
                "    cur.append(c)\r\n",
                "\r\n",
                "for i in range(n):\r\n",
                "    if cur[i] == \"Euros\":\r\n",
                "        amt[i] = amt[i]*1.18\r\n",
                "        cur[i] = \"Dollars\"\r\n",
                "    elif cur[i] == \"Rupees\":\r\n",
                "        amt[i] = amt[i] * 0.013\r\n",
                "        cur[i] = \"Dollars\"\r\n",
                "\r\n",
                "for i in range (n):\r\n",
                "    print(snd[i],rec[i],amt[i],cur[i])\r\n",
                "\r\n",
                "net = []\r\n",
                "for i in range (n):thub \r\n",
                "    if(i in rec):\r\n",
                "        net[i] += amt[i]\r\n",
                "max = 0\r\n",
                "for i in range(n):\r\n",
                "    if (net[i] > max):\r\n",
                "        max = net[i]\r\n",
                "        max_lent = i\r\n",
                "min = net[i]\r\n",
                "for i in range(n):\r\n",
                "    if (net[i]<min):\r\n",
                "        min = net[i]\r\n",
                "print(net)\r\n",
                "print(max,min)"
            ],
            "outputs": [
                {
                    "output_type": "stream",
                    "name": "stdout",
                    "text": [
                        "3 1 30 Dollars\n",
                        "2 1 100 Dollarsa\n",
                        "2 3 30 Dollars\n"
                    ]
                },
                {
                    "output_type": "error",
                    "ename": "IndexError",
                    "evalue": "list index out of range",
                    "traceback": [
                        "\u001b[1;31m---------------------------------------------------------------------------\u001b[0m",
                        "\u001b[1;31mIndexError\u001b[0m                                Traceback (most recent call last)",
                        "\u001b[1;32m<ipython-input-5-60acfc65dd6b>\u001b[0m in \u001b[0;36m<module>\u001b[1;34m\u001b[0m\n\u001b[0;32m     28\u001b[0m \u001b[1;32mfor\u001b[0m \u001b[0mi\u001b[0m \u001b[1;32min\u001b[0m \u001b[0mrange\u001b[0m \u001b[1;33m(\u001b[0m\u001b[0mn\u001b[0m\u001b[1;33m)\u001b[0m\u001b[1;33m:\u001b[0m\u001b[1;33m\u001b[0m\u001b[1;33m\u001b[0m\u001b[0m\n\u001b[0;32m     29\u001b[0m     \u001b[1;32mif\u001b[0m\u001b[1;33m(\u001b[0m\u001b[0mi\u001b[0m \u001b[1;32min\u001b[0m \u001b[0mrec\u001b[0m\u001b[1;33m)\u001b[0m\u001b[1;33m:\u001b[0m\u001b[1;33m\u001b[0m\u001b[1;33m\u001b[0m\u001b[0m\n\u001b[1;32m---> 30\u001b[1;33m         \u001b[0mnet\u001b[0m\u001b[1;33m[\u001b[0m\u001b[0mi\u001b[0m\u001b[1;33m]\u001b[0m \u001b[1;33m+=\u001b[0m \u001b[0mamt\u001b[0m\u001b[1;33m[\u001b[0m\u001b[0mi\u001b[0m\u001b[1;33m]\u001b[0m\u001b[1;33m\u001b[0m\u001b[1;33m\u001b[0m\u001b[0m\n\u001b[0m\u001b[0;32m     31\u001b[0m \u001b[0mmax\u001b[0m \u001b[1;33m=\u001b[0m \u001b[1;36m0\u001b[0m\u001b[1;33m\u001b[0m\u001b[1;33m\u001b[0m\u001b[0m\n\u001b[0;32m     32\u001b[0m \u001b[1;32mfor\u001b[0m \u001b[0mi\u001b[0m \u001b[1;32min\u001b[0m \u001b[0mrange\u001b[0m\u001b[1;33m(\u001b[0m\u001b[0mn\u001b[0m\u001b[1;33m)\u001b[0m\u001b[1;33m:\u001b[0m\u001b[1;33m\u001b[0m\u001b[1;33m\u001b[0m\u001b[0m\n",
                        "\u001b[1;31mIndexError\u001b[0m: list index out of range"
                    ]
                }
            ],
            "metadata": {}
        },
        {
            "cell_type": "code",
            "execution_count": 1,
            "source": [
                "n = int(input())\r\n",
                "strn = []\r\n",
                "\r\n",
                "for i in range(n):\r\n",
                "    x = input()\r\n",
                "\r\n",
                "    strn.append(x)\r\n",
                "for i in strn:\r\n",
                "    s1 = []\r\n",
                "    s2 = []\r\n",
                "    s = len(i)\r\n",
                "    for j in range(s):\r\n",
                "        if (j%2 == 0):\r\n",
                "            s1.append(strn[i][j])\r\n",
                "        elif (j%2 != 0):\r\n",
                "            s2.append(strn[i][j])\r\n",
                "    print(str(s1)+\" \"+str(s2))\r\n",
                "        "
            ],
            "outputs": [
                {
                    "output_type": "error",
                    "ename": "TypeError",
                    "evalue": "list indices must be integers or slices, not str",
                    "traceback": [
                        "\u001b[1;31m---------------------------------------------------------------------------\u001b[0m",
                        "\u001b[1;31mTypeError\u001b[0m                                 Traceback (most recent call last)",
                        "\u001b[1;32m<ipython-input-1-fefa0a2cef0f>\u001b[0m in \u001b[0;36m<module>\u001b[1;34m\u001b[0m\n\u001b[0;32m      9\u001b[0m     \u001b[0ms1\u001b[0m \u001b[1;33m=\u001b[0m \u001b[1;33m[\u001b[0m\u001b[1;33m]\u001b[0m\u001b[1;33m\u001b[0m\u001b[1;33m\u001b[0m\u001b[0m\n\u001b[0;32m     10\u001b[0m     \u001b[0ms2\u001b[0m \u001b[1;33m=\u001b[0m \u001b[1;33m[\u001b[0m\u001b[1;33m]\u001b[0m\u001b[1;33m\u001b[0m\u001b[1;33m\u001b[0m\u001b[0m\n\u001b[1;32m---> 11\u001b[1;33m     \u001b[0ms\u001b[0m \u001b[1;33m=\u001b[0m \u001b[0mlen\u001b[0m\u001b[1;33m(\u001b[0m\u001b[0mstrn\u001b[0m\u001b[1;33m[\u001b[0m\u001b[0mi\u001b[0m\u001b[1;33m]\u001b[0m\u001b[1;33m)\u001b[0m\u001b[1;33m\u001b[0m\u001b[1;33m\u001b[0m\u001b[0m\n\u001b[0m\u001b[0;32m     12\u001b[0m     \u001b[1;32mfor\u001b[0m \u001b[0mj\u001b[0m \u001b[1;32min\u001b[0m \u001b[0mrange\u001b[0m\u001b[1;33m(\u001b[0m\u001b[0ms\u001b[0m\u001b[1;33m)\u001b[0m\u001b[1;33m:\u001b[0m\u001b[1;33m\u001b[0m\u001b[1;33m\u001b[0m\u001b[0m\n\u001b[0;32m     13\u001b[0m         \u001b[1;32mif\u001b[0m \u001b[1;33m(\u001b[0m\u001b[0mj\u001b[0m\u001b[1;33m%\u001b[0m\u001b[1;36m2\u001b[0m \u001b[1;33m==\u001b[0m \u001b[1;36m0\u001b[0m\u001b[1;33m)\u001b[0m\u001b[1;33m:\u001b[0m\u001b[1;33m\u001b[0m\u001b[1;33m\u001b[0m\u001b[0m\n",
                        "\u001b[1;31mTypeError\u001b[0m: list indices must be integers or slices, not str"
                    ]
                }
            ],
            "metadata": {}
        }
    ],
    "metadata": {
        "orig_nbformat": 4,
        "language_info": {
            "name": "python",
            "version": "3.8.5",
            "mimetype": "text/x-python",
            "codemirror_mode": {
                "name": "ipython",
                "version": 3
            },
            "pygments_lexer": "ipython3",
            "nbconvert_exporter": "python",
            "file_extension": ".py"
        },
        "kernelspec": {
            "name": "python3",
            "display_name": "Python 3.8.5 32-bit"
        },
        "interpreter": {
            "hash": "1663a3684540edef1ca0f7b3a1b8114e3d20606401823fee5b472905e5acb664"
        }
    },
    "nbformat": 4,
    "nbformat_minor": 2
}