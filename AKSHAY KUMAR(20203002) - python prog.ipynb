{
 "cells": [
  {
   "cell_type": "markdown",
   "metadata": {},
   "source": [
    "# Exercises"
   ]
  },
  {
   "cell_type": "markdown",
   "metadata": {},
   "source": [
    "## Question 1"
   ]
  },
  {
   "cell_type": "markdown",
   "metadata": {},
   "source": [
    "**Write a program to ask the user for five names. The program should store the names in a list and print them all out at the end. It should look something like this:**\n",
    "\n",
    "**Enter 5 names: \n",
    "<br>Tony \n",
    "<br>Paul \n",
    "<br>Nick \n",
    "<br>Michel \n",
    "<br>Kevin \n",
    "<br>The names are Tony Paul Nick Michel Kevin**"
   ]
  },
  {
   "cell_type": "code",
   "execution_count": 1,
   "metadata": {},
   "outputs": [
    {
     "name": "stdout",
     "output_type": "stream",
     "text": [
      "Enter 5 Names\n",
      "The Names Are\n",
      "   akshay wasqiqu xcvsa <class 'list'>\n"
     ]
    }
   ],
   "source": [
    "arr=[]\n",
    "print(\"Enter 5 Names\")\n",
    "for i in range(5):\n",
    "    name = input()\n",
    "    arr.append(name)\n",
    "print(\"The Names Are\")\n",
    "for i in arr:\n",
    "    print(i,end=\" \")\n",
    "print(type(arr))"
   ]
  },
  {
   "cell_type": "markdown",
   "metadata": {},
   "source": [
    "## Question 2"
   ]
  },
  {
   "cell_type": "markdown",
   "metadata": {},
   "source": [
    "**Modify the program from question #1 to print both the original list of names and a sorted list.**"
   ]
  },
  {
   "cell_type": "code",
   "execution_count": 10,
   "metadata": {},
   "outputs": [
    {
     "name": "stdout",
     "output_type": "stream",
     "text": [
      "Enter 5 Names\n",
      "The Names Are\n",
      "akshay wasique mayank saurabh abhinav \n",
      " Names in Sorted Manner are: \n",
      "abhinav akshay mayank saurabh wasique "
     ]
    }
   ],
   "source": [
    "arr=[]\n",
    "print(\"Enter 5 Names\")\n",
    "for i in range(5):\n",
    "    name = input()\n",
    "    arr.append(name)\n",
    "print(\"The Names Are\")\n",
    "for i in arr:\n",
    "    print(i,end=\" \")\n",
    "print(\"\\nNames in Sorted Manner are: \")\n",
    "arr.sort()\n",
    "for i in arr:\n",
    "    print(i,end=\" \")"
   ]
  },
  {
   "cell_type": "markdown",
   "metadata": {},
   "source": [
    "## Question 3"
   ]
  },
  {
   "cell_type": "markdown",
   "metadata": {},
   "source": [
    "**Modify the program from question #1 to display only the third name the user typed in, like this:**\n",
    "\n",
    "**The third name you entered is: Nick**"
   ]
  },
  {
   "cell_type": "code",
   "execution_count": 12,
   "metadata": {},
   "outputs": [
    {
     "name": "stdout",
     "output_type": "stream",
     "text": [
      "Enter 5 Names\n",
      "The Names Are\n",
      "akshay wasique mayank abhinav saurabh \n",
      "The Third Name Entered Is: \n",
      "mayank\n"
     ]
    }
   ],
   "source": [
    "arr=[]\n",
    "print(\"Enter 5 Names\")\n",
    "for i in range(5):\n",
    "    name = input()\n",
    "    arr.append(name)\n",
    "print(\"The Names Are\")\n",
    "for i in arr:\n",
    "    print(i,end=\" \")\n",
    "print(\"\\nThe Third Name Entered Is: \")\n",
    "print(arr[2])\n"
   ]
  },
  {
   "cell_type": "markdown",
   "metadata": {},
   "source": [
    "## Question 4"
   ]
  },
  {
   "cell_type": "markdown",
   "metadata": {},
   "source": [
    "**Modify the program from question #1 to let the user replace one of the names. He or she should be able to choose which name to replace and then type in the new name.**\n",
    "\n",
    "Finally, display the new list like this:\n",
    "<br>Enter 5 names: \n",
    "<br>Tony \n",
    "<br>Paul \n",
    "<br>Nick \n",
    "<br>Michel \n",
    "<br>Kevin \n",
    "<br>The names are Tony Paul Nick Michel Kevin \n",
    "<br>Replace one name. Which one? (1-5): Kevin \n",
    "<br>New name: Peter \n",
    "<br>The names are Tony Paul Nick Peter Kevin"
   ]
  },
  {
   "cell_type": "code",
   "execution_count": null,
   "metadata": {},
   "outputs": [],
   "source": []
  },
  {
   "cell_type": "code",
   "execution_count": 17,
   "metadata": {},
   "outputs": [
    {
     "name": "stdout",
     "output_type": "stream",
     "text": [
      "The names are: akshay abhinav mayank wasiwue suraj \n",
      "Name to be replaced is :  suraj\n",
      "\n",
      "\n",
      "suraj is replaced by aniket\n",
      "\n",
      " New List Is : \n",
      "akshay abhinav mayank wasiwue aniket "
     ]
    }
   ],
   "source": [
    "arr=[]\n",
    "for i in range(5):\n",
    "    name=input(\"Enter 5 names\")\n",
    "    arr.append(name)\n",
    "print(\"The names are: \",end=\"\")\n",
    "for i in arr:\n",
    "    print(i, end=\" \")\n",
    "t1=input(\"\\nEnter Name To Be Raplaced: \")\n",
    "print(\"\\nName to be replaced is : \",t1)\n",
    "t2=input(\"\\nEnter the New name :\")\n",
    "print(\"\\n\")\n",
    "print(t1,\"is replaced by\",t2)\n",
    "t3=arr.index(t1)\n",
    "arr[t3]=t2\n",
    "print(\"\\nNew List Is : \")\n",
    "for i in arr:\n",
    "    print(i, end=\" \")"
   ]
  },
  {
   "cell_type": "markdown",
   "metadata": {},
   "source": [
    "## Question 5"
   ]
  },
  {
   "cell_type": "markdown",
   "metadata": {},
   "source": [
    "**Write a dictionary program that lets users enter certain words and definitions and then look them up later. Make sure you let the user know if their word isn’t in the dictionary yet. It should look something like this when it runs:**\n",
    "\n",
    "Add or look up a word (a/l)? a <br>\n",
    "Type the word: computer <br>\n",
    "Type the definition: A machine that does very fast math <br>\n",
    "Word added! <br>\n",
    "Add or look up a word (a/l)? l <br>\n",
    "Type the word: computer<br>\n",
    "A machine that does very fast math <br>\n",
    "Add or look up a word (a/l)? l<br>\n",
    "Type the word: qwerty<br>\n",
    "That word isn't in the dictionary yet.<br>"
   ]
  },
  {
   "cell_type": "code",
   "execution_count": 2,
   "metadata": {},
   "outputs": [
    {
     "name": "stdout",
     "output_type": "stream",
     "text": [
      "Enter 'a' for Adding a word and 'l' for Lookup\n",
      "\n",
      "The Word Added Is :  money\n",
      "The Defenation Is : medium of exchange of goods and services\n",
      "New Word Added!\n",
      "Enter '1' to cintinue and 0 to exit\n",
      "Enter 'a' for Adding a word and 'l' for Lookup\n",
      "\n",
      "The Word Added Is :  data\n",
      "The Defenation Is : collection of processed information\n",
      "New Word Added!\n",
      "Enter '1' to cintinue and 0 to exit\n",
      "Enter 'a' for Adding a word and 'l' for Lookup\n",
      "\n",
      "The Defination of  data is : collection of processed information\n",
      "Enter '1' to cintinue and 0 to exit\n"
     ]
    }
   ],
   "source": [
    "dct = {}\n",
    "opt = 1\n",
    "while(opt != 0):\n",
    "    print(\"Enter 'a' for Adding a word and 'l' for Lookup\\n\")\n",
    "    x = input()\n",
    "    if x == 'a':\n",
    "        word = input(\"Enter the Word\")\n",
    "        print(\"The Word Added Is : \",word)\n",
    "        defn = input(\"Enter the Defination of Word\")\n",
    "        print(\"The Defenation Is :\",defn)\n",
    "        dct.update({word : defn})\n",
    "        print(\"New Word Added!\")\n",
    "    elif x == 'l':\n",
    "        word = input(\"ENter the Word: \")\n",
    "        if word in dct:\n",
    "            print(\"The Defination of \",word,\"is :\", dct.get(word))\n",
    "        else:\n",
    "            print(\"No Such Word in the Dictionary\")\n",
    "    print(\"Enter '1' to cintinue and 0 to exit\")\n",
    "    sel = int(input())\n",
    "    opt = sel \n",
    "         \n"
   ]
  },
  {
   "cell_type": "markdown",
   "metadata": {},
   "source": [
    "## Question 6"
   ]
  },
  {
   "cell_type": "markdown",
   "metadata": {},
   "source": [
    "**Write a python program that computes the weekly hours for each employee.**\n",
    "\n",
    "Suppose the weekly hours for all employees are stored in a table (list of lists). Each row records an employee’s seven-day work hours with seven columns like:\n",
    "<br>  &emsp;&emsp;&emsp;&emsp;  &emsp;&emsp;   &emsp;        Su M &nbsp;T&nbsp; W&nbsp; Th F&nbsp; Sa\n",
    "<br>Employee 0 &emsp;   2 &nbsp;&nbsp; 4&nbsp; 3&nbsp; 4&nbsp; 5&nbsp; &nbsp; 8&nbsp;  8\n",
    "<br>Employee 1 &emsp;  7 &nbsp;&nbsp; 3&nbsp; 4&nbsp; 3 &nbsp;3  &nbsp;&nbsp;4 &nbsp; 4\n",
    "<br>Employee 2 &emsp;  3 &nbsp;&nbsp;3 &nbsp;4&nbsp; 3 &nbsp;3  &nbsp;&nbsp;2 &nbsp; 2\n",
    "<br>Employee 3 &emsp;  9 &nbsp;&nbsp;3 &nbsp;4&nbsp; 7 &nbsp;3 &nbsp;&nbsp; 4 &nbsp; 1\n",
    "<br>Employee 4 &emsp;  3 &nbsp;&nbsp;5 &nbsp;4&nbsp; 3 &nbsp;6 &nbsp;&nbsp; 3 &nbsp; 8\n",
    "<br>Employee 5 &emsp;  3 &nbsp;&nbsp;4 &nbsp;4&nbsp; 6 &nbsp;3 &nbsp;&nbsp; 4 &nbsp; 4\n",
    "<br>Employee 6 &emsp;  3 &nbsp;&nbsp;7 &nbsp;4&nbsp; 8 &nbsp;3  &nbsp;&nbsp;8 &nbsp; 4\n",
    "<br>Employee 7 &emsp;  6 &nbsp;&nbsp;3 &nbsp;5&nbsp; 9 &nbsp;2 &nbsp;&nbsp; 7 &nbsp; 9\n",
    "\n",
    "**Write a program that displays employees and their total hours in decreasing order of the total hours.**"
   ]
  },
  {
   "cell_type": "code",
   "execution_count": 39,
   "metadata": {},
   "outputs": [
    {
     "name": "stdout",
     "output_type": "stream",
     "text": [
      "Employee 2: 20\n",
      "Employee 1: 28\n",
      "Employee 5: 28\n",
      "Employee 3: 31\n",
      "Employee 4: 32\n",
      "Employee 0: 34\n",
      "Employee 6: 37\n",
      "Employee 7: 41\n"
     ]
    }
   ],
   "source": [
    "# Declare, create, and initialized list of lists\n",
    "workHours = [\n",
    "    [2, 4, 3, 4, 5, 8, 8],\n",
    "    [7, 3, 4, 3, 3, 4, 4],\n",
    "    [3, 3, 4, 3, 3, 2, 2],\n",
    "    [9, 3, 4, 7, 3, 4, 1],\n",
    "    [3, 5, 4, 3, 6, 3, 8],\n",
    "    [3, 4, 4, 6, 3, 4, 4],\n",
    "    [3, 7, 4, 8, 3, 8, 4],\n",
    "    [6, 3, 5, 9, 2, 7, 9]]\n",
    "\n",
    "# Create an array to store total weekly hours\n",
    "\n",
    "\n",
    "# Display result\n"
   ]
  },
  {
   "cell_type": "code",
   "execution_count": 12,
   "metadata": {},
   "outputs": [
    {
     "name": "stdout",
     "output_type": "stream",
     "text": [
      "Weekly Hours of Employee 1 are [0, 7, 7, 8, 5, 6, 0]\n",
      "Weekly Hours of Employee 2 are [0, 7, 7, 8, 9, 1, 0]\n",
      "Weekly Hours of Employee 3 are [0, 7, 8, 5, 1, 2, 0]\n",
      "Weekly Hours of Employee 4 are [0, 7, 8, 8, 6, 1, 0]\n",
      "Weekly Hours of Employee 5 are [0, 7, 9, 8, 5, 6, 0]\n",
      "Weekly Hours of Employee 6 are [0, 9, 5, 4, 3, 4, 0]\n",
      "Total Work hours in a Week in Ascending Oder are:\n",
      "\n",
      "Employee 3 : 23\n",
      "Employee 6 : 25\n",
      "Employee 4 : 30\n",
      "Employee 2 : 32\n",
      "Employee 1 : 33\n",
      "Employee 5 : 35\n"
     ]
    }
   ],
   "source": [
    "emplys=[]\n",
    "x=int(input(\"No of Employees: \"))\n",
    "for i in range(x):\n",
    "    employee_str=list(input(\"Enter Weekly Hours: \"))\n",
    "    emp=list(map(int, employee_str))\n",
    "    emplys.append(emp)\n",
    "    print(\"Weekly Hours of Employee\",i+1,\"are\",list(emplys[i]))\n",
    "emp_avg_hrs=[]\n",
    "for i in range(len(emplys)):\n",
    "    emp_avg_hrs.append(sum(emplys[i]))\n",
    "tmp=sorted(emp_avg_hrs)\n",
    "ep_av_hr=[]\n",
    "for i in range(len(emp_avg_hrs)):\n",
    "    ep_av_hr.append([emp_avg_hrs[i],i])\n",
    "ep_av_hr.sort()\n",
    "srt_arr=[]\n",
    "for x in ep_av_hr:\n",
    "    srt_arr.append(x[1])\n",
    "print(\"Total Work hours in a Week in Ascending Oder are:\\n\")\n",
    "for i in range(len(emp_avg_hrs)):\n",
    "    print(\"Employee\",srt_arr[i]+1,\":\",tmp[i])"
   ]
  },
  {
   "cell_type": "code",
   "execution_count": null,
   "metadata": {},
   "outputs": [],
   "source": [
    "12"
   ]
  }
 ],
 "metadata": {
  "kernelspec": {
   "display_name": "Python 3.8.5 32-bit",
   "metadata": {
    "interpreter": {
     "hash": "1663a3684540edef1ca0f7b3a1b8114e3d20606401823fee5b472905e5acb664"
    }
   },
   "name": "python3"
  },
  "language_info": {
   "codemirror_mode": {
    "name": "ipython",
    "version": 3
   },
   "file_extension": ".py",
   "mimetype": "text/x-python",
   "name": "python",
   "nbconvert_exporter": "python",
   "pygments_lexer": "ipython3",
   "version": "3.11.4"
  }
 },
 "nbformat": 4,
 "nbformat_minor": 2
}
