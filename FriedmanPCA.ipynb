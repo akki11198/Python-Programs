{
 "metadata": {
  "language_info": {
   "codemirror_mode": {
    "name": "ipython",
    "version": 3
   },
   "file_extension": ".py",
   "mimetype": "text/x-python",
   "name": "python",
   "nbconvert_exporter": "python",
   "pygments_lexer": "ipython3",
   "version": "3.9.6"
  },
  "orig_nbformat": 2,
  "kernelspec": {
   "name": "python3",
   "display_name": "Python 3.9.6 64-bit"
  },
  "metadata": {
   "interpreter": {
    "hash": "1663a3684540edef1ca0f7b3a1b8114e3d20606401823fee5b472905e5acb664"
   }
  },
  "interpreter": {
   "hash": "3c66f6a286164178c61090f11fff7531913209fa14f0a93186ebc32286e28675"
  }
 },
 "nbformat": 4,
 "nbformat_minor": 2,
 "cells": [
  {
   "cell_type": "code",
   "execution_count": 1,
   "source": [
    "from sklearn.decomposition import PCA\r\n",
    "from sklearn.datasets import make_friedman1\r\n",
    "x,y=make_friedman1()"
   ],
   "outputs": [],
   "metadata": {}
  },
  {
   "cell_type": "code",
   "execution_count": 2,
   "source": [
    "pca = PCA(n_components = 5)\r\n",
    "pca.fit(x)\r\n",
    "x_transformed = pca.transform(x)\r\n",
    "print(\"Orignal Shape =\",x.shape)\r\n",
    "print(\"Reduced Shape = \",x_transformed.shape)\r\n",
    "print(\"Details of Principle Components are\",pca.components_.round(3))\r\n",
    "print(\"Variance as per Components\",pca.explained_variance_ratio_.round(3))"
   ],
   "outputs": [
    {
     "output_type": "stream",
     "name": "stdout",
     "text": [
      "Orignal Shape = (100, 10)\n",
      "Reduced Shape =  (100, 5)\n",
      "Details of Principle Components are [[-0.299  0.011  0.009  0.506  0.016 -0.261  0.579  0.362 -0.023  0.345]\n",
      " [ 0.428 -0.052  0.054  0.195  0.39   0.489 -0.188  0.552 -0.121  0.166]\n",
      " [ 0.167 -0.202 -0.538 -0.22   0.043 -0.597 -0.302  0.291 -0.077  0.231]\n",
      " [-0.193 -0.051 -0.059 -0.213 -0.593  0.339 -0.048  0.097 -0.541  0.374]\n",
      " [ 0.192 -0.836  0.175 -0.165 -0.197  0.038  0.311  0.111  0.178 -0.158]]\n",
      "Variance as per Components [0.146 0.139 0.123 0.113 0.098]\n"
     ]
    }
   ],
   "metadata": {}
  },
  {
   "cell_type": "code",
   "execution_count": 3,
   "source": [
    "import matplotlib.pyplot as plt\r\n",
    "plt.matshow(pca.components_)\r\n",
    "plt.yticks(range(5),[\"First component\",\"second component\",\"Third Component\",\"Fourth Component\",\"Fifth Component\"])\r\n",
    "plt.colorbar()\r\n",
    "plt.xticks(range(10))\r\n",
    "plt.tight_layout()\r\n",
    "plt.xlabel(\"Features of Friedman  dataset\")\r\n",
    "plt.ylabel(\"Principal components\")\r\n",
    "plt.show()"
   ],
   "outputs": [
    {
     "output_type": "stream",
     "name": "stderr",
     "text": [
      "C:\\Users\\akaks\\AppData\\Local\\Temp/ipykernel_8408/2555695568.py:6: UserWarning: This figure includes Axes that are not compatible with tight_layout, so results might be incorrect.\n",
      "  plt.tight_layout()\n"
     ]
    },
    {
     "output_type": "display_data",
     "data": {
      "text/plain": [
       "<Figure size 576x288 with 2 Axes>"
      ],
      "image/png": "[encoded data removed]"
     },
     "metadata": {
      "needs_background": "light"
     }
    }
   ],
   "metadata": {}
  },
  {
   "cell_type": "code",
   "execution_count": null,
   "source": [],
   "outputs": [],
   "metadata": {}
  }
 ]
}